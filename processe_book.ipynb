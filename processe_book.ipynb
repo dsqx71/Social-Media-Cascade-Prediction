{
 "cells": [
  {
   "cell_type": "code",
   "execution_count": 1,
   "metadata": {
    "collapsed": true
   },
   "outputs": [],
   "source": [
    "import numpy as np\n",
    "import pandas as pd\n",
    "\n",
    "from sklearn.metrics import make_scorer\n",
    "from sklearn.ensemble import RandomForestRegressor\n",
    "from sklearn.cross_validation import  KFold\n",
    "from sklearn.linear_model import LassoCV,Lasso,MultiTaskLasso\n",
    "from sklearn.grid_search import GridSearchCV\n",
    "from sklearn.preprocessing import scale\n",
    "import logging\n",
    "\n",
    "def time_validation(train,time = pd.Timestamp('2014-7-1')):\n",
    "\n",
    "    return  ((train['time'] - time) < 0).values\n",
    "\n",
    "\n",
    "def user_validation(train,ratio_val= 0.2):\n",
    "\n",
    "    index = train['uid'].unique()\n",
    "    np.random.shuffle(index)\n",
    "    choosen = index[:len(index)*ratio_val]\n",
    "    mask = train['uid'].isin(choosen)\n",
    "\n",
    "    return ~mask.values\n",
    "\n",
    "def my_score_func(ground_truth,prediction):\n",
    "    prediction = np.rint(np.expm1(prediction))\n",
    "    prediction = np.where(prediction<0,0,prediction)\n",
    "    deviation_f = np.abs(ground_truth[:,0]-prediction[:,0])/(5+ground_truth[:,0]).astype(np.float64)\n",
    "    deviation_c = np.abs(ground_truth[:,1]-prediction[:,1])/(3+ground_truth[:,1]).astype(np.float64)\n",
    "    deviation_l  = np.abs(ground_truth[:,2]-prediction[:,2])/(3+ground_truth[:,2]).astype(np.float64)\n",
    "    precision = sum((ground_truth[:,0]+ground_truth[:,1] + ground_truth[:,2] +1) *  np.where(1-0.5*deviation_f - 0.25*deviation_c - 0.25*deviation_l>0.8,1,0))\n",
    "    precision = precision / float(sum(ground_truth[:,0]+ground_truth[:,1] + ground_truth[:,2] +1))\n",
    "\n",
    "    return precision"
   ]
  },
  {
   "cell_type": "code",
   "execution_count": 2,
   "metadata": {
    "collapsed": false
   },
   "outputs": [],
   "source": [
    "logging.root.setLevel(logging.INFO)\n",
    "logging.basicConfig(format='%(asctime)s : %(levelname)s : %(message)s')\n",
    "\n",
    "train_x = np.load('processed_data/train_np.npy')\n",
    "test_x  = np.load('processed_data/test_np.npy')\n",
    "train_y = np.load('processed_data/target_np.npy')\n",
    "train_y_class = np.zeros_like(train_y)\n",
    "train_y_class[train_y[:,0]>1,0] = 1\n",
    "train_y_class[train_y[:,1]>0,1] = 1\n",
    "train_y_class[train_y[:,2]>0,2] = 1\n",
    "train_basic = pd.read_pickle('raw_data/basic_train')\n",
    "train_basic = train_basic.loc[1626750:]\n",
    "\n",
    "score = make_scorer(my_score_func,greater_is_better=True)\n",
    "weight = 1 + train_y[:,0] + train_y[:,1] + train_y[:,2]\n",
    "train_y = np.log1p(train_y)"
   ]
  },
  {
   "cell_type": "code",
   "execution_count": 3,
   "metadata": {
    "collapsed": true
   },
   "outputs": [],
   "source": [
    "lasso = LassoCV(selection='random',n_jobs=2,verbose=2)"
   ]
  },
  {
   "cell_type": "code",
   "execution_count": null,
   "metadata": {
    "collapsed": false
   },
   "outputs": [],
   "source": [
    "lasso.fit(train_x,train_y[:,0])"
   ]
  },
  {
   "cell_type": "code",
   "execution_count": null,
   "metadata": {
    "collapsed": true
   },
   "outputs": [],
   "source": []
  },
  {
   "cell_type": "code",
   "execution_count": null,
   "metadata": {
    "collapsed": true
   },
   "outputs": [],
   "source": [
    "parameters = dict(alpha=[0.003])\n",
    "regression = GridSearchCV(MultiTaskLasso(selection='random'),parameters,scoring=score,iid=False,cv=5,refit=True,verbose=2)\n",
    "regression.fit(train_x,train_y)"
   ]
  },
  {
   "cell_type": "code",
   "execution_count": null,
   "metadata": {
    "collapsed": true
   },
   "outputs": [],
   "source": [
    "parameters = dict(alpha=np.linspace(0.001,0.05,20))\n",
    "regression = GridSearchCV(MultiTaskEla(selection='random'),parameters,scoring=score,iid=False,cv=5,refit=True,verbose=2)"
   ]
  }
 ],
 "metadata": {
  "kernelspec": {
   "display_name": "Python 2",
   "language": "python",
   "name": "python2"
  },
  "language_info": {
   "codemirror_mode": {
    "name": "ipython",
    "version": 2
   },
   "file_extension": ".py",
   "mimetype": "text/x-python",
   "name": "python",
   "nbconvert_exporter": "python",
   "pygments_lexer": "ipython2",
   "version": "2.7.10"
  }
 },
 "nbformat": 4,
 "nbformat_minor": 0
}
