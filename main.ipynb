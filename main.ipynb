{
 "cells": [
  {
   "cell_type": "code",
   "execution_count": 2,
   "metadata": {
    "collapsed": false
   },
   "outputs": [
    {
     "data": {
      "text/plain": [
       "<module 'access_data' from 'access_data.py'>"
      ]
     },
     "execution_count": 2,
     "metadata": {},
     "output_type": "execute_result"
    }
   ],
   "source": [
    "import numpy as np\n",
    "import pandas as pd\n",
    "import seaborn as sns\n",
    "import matplotlib.pyplot as plt\n",
    "\n",
    "import os.path\n",
    "import access_data \n",
    "import preprocessing\n",
    "import setting\n",
    "import feature\n",
    "import sys\n",
    "import time\n",
    "\n",
    "from sklearn.decomposition import PCA\n",
    "from sklearn.ensemble import AdaBoostClassifier,AdaBoostRegressor,\\\n",
    "RandomForestClassifier,RandomForestRegressor,GradientBoostingClassifier,GradientBoostingRegressor\n",
    "from sklearn.tree import DecisionTreeRegressor,DecisionTreeClassifier\n",
    "\n",
    "pd.set_option('display.max_columns' ,1000)\n",
    "pd.set_option('display.max_rows',60)\n",
    "%matplotlib inline\n",
    "reload(feature)\n",
    "reload(access_data)"
   ]
  },
  {
   "cell_type": "markdown",
   "metadata": {},
   "source": [
    "#清理 + 分词 + label encode+计算词频"
   ]
  },
  {
   "cell_type": "code",
   "execution_count": 3,
   "metadata": {
    "collapsed": true
   },
   "outputs": [
    {
     "name": "stderr",
     "output_type": "stream",
     "text": [
      "INFO:root:finished cleaning symbol http[0-9a-zA-Z?:=._@%/\\-#&\\+|]+\n",
      "INFO:root:finished cleaning symbol //@\n",
      "INFO:root:finished cleaning symbol @\n",
      "INFO:root:finished cleaning symbol #\n",
      "INFO:root:finished cleaning symbol 【\n",
      "INFO:root:finished cleaning symbol 《\n",
      "INFO:root:finished cleaning symbol \\[\n"
     ]
    }
   ],
   "source": [
    "train_corpus ,test_corpus = preprocessing.clean_corpus()\n",
    "\n",
    "test_corpus['corpus'] = preprocessing.segment_word(test_corpus['corpus'])\n",
    "train_corpus['corpus'] = preprocessing.segment_word(train_corpus['corpus'])\n",
    "\n",
    "train_corpus.to_pickle(setting.processed_data_dir+'cleaned&segment_train')\n",
    "test_corpus.to_pickle(setting.processed_data_dir+'cleaned&segment_test')\n",
    "\n",
    "train_uid,test_uid = preprocessing.encode_label()\n",
    "\n",
    "preprocessing.bag_of_word(train_corpus['corpus'].values,test_corpus['corpus'].values,min_df=10)"
   ]
  },
  {
   "cell_type": "markdown",
   "metadata": {},
   "source": [
    "##主题模型"
   ]
  },
  {
   "cell_type": "code",
   "execution_count": null,
   "metadata": {
    "collapsed": true
   },
   "outputs": [],
   "source": [
    "%run run_lda.py"
   ]
  },
  {
   "cell_type": "markdown",
   "metadata": {},
   "source": [
    "  ##构建用户基本特征 "
   ]
  },
  {
   "cell_type": "code",
   "execution_count": 2,
   "metadata": {
    "collapsed": false
   },
   "outputs": [],
   "source": [
    "train_uid = access_data.load_processed_data('uid&pid_train')\n",
    "test_uid  = access_data.load_processed_data('uid&pid_test')\n",
    "\n",
    "train ,test = access_data.load_raw_data()\n",
    "\n",
    "train_corpus = access_data.load_processed_data('cleaned&segment_train')\n",
    "test_corpus  = access_data.load_processed_data('cleaned&segment_test')                                               \n",
    "train = pd.concat([train_uid,train,train_corpus],axis=1)\n",
    "test  = pd.concat([test_uid,test,test_corpus],axis=1)\n",
    "\n",
    "train.drop([0,1],axis=1,inplace=True)\n",
    "test.drop([0,1],axis=1,inplace=True)\n",
    "\n",
    "train.columns = ['pid','uid','time','share','comment','zan','raw_corpus','clean&segment','链接','//@','@','#','【','《','\\[']\n",
    "test.columns = ['pid','uid','time','raw_corpus','clean&segment','链接','//@','@','#','【','《','\\[']\n",
    "train['uid'] = train['uid'].astype(np.uint16)\n",
    "test['uid']  = test['uid'].astype(np.uint16)\n",
    "l = ['链接','//@','@','#','【','《','\\[']\n",
    "\n",
    "for string in l :\n",
    "    train[string] = train[string].astype(np.int8)\n",
    "    test[string]  = test[string].astype(np.int8)\n",
    "\n",
    "#在training set和test set中和用户发送微博的总数量\n",
    "tot = pd.concat([pd.DataFrame(train['uid']),pd.DataFrame(test['uid'])])\n",
    "c = pd.DataFrame(tot['uid'].value_counts())\n",
    "c.columns = ['tot_counts']\n",
    "train = train.merge(c,left_on='uid',right_index=True,how='left')\n",
    "test  = test.merge(c,left_on='uid',right_index=True,how='left')\n",
    "\n",
    "# 用户出现在训练集的次数\n",
    "c = pd.DataFrame(train['uid'].value_counts())\n",
    "c.columns = ['train_counts']\n",
    "train = train.merge(c,left_on='uid',right_index=True,how='left')\n",
    "test  = test.merge(c,left_on='uid',right_index=True,how='left')\n",
    "\n",
    "test.fillna(-1,inplace=True)\n",
    "train['tot_counts'] = train['tot_counts'].astype(np.int32)\n",
    "train['train_counts'] = train['train_counts'].astype(np.int32)\n",
    "\n",
    "test['tot_counts'] = test['tot_counts'].astype(np.int32)\n",
    "test['train_counts'] = test['train_counts'].astype(np.int32)\n",
    "\n",
    "addr1 = setting.raw_data_dir + 'basic_train'\n",
    "addr2 = setting.raw_data_dir + 'basic_test'\n",
    "\n",
    "lda_result = np.load('processed_data/lda_result_version2.npy')\n",
    "lda_result = pd.DataFrame(lda_result,columns=['topic_%d' %i for i in range(0,25)])\n",
    "\n",
    "for string in ['topic_%d' %i for i in range(0,25)]:\n",
    "    train[string] = lda_result.loc[:1626749,string].values\n",
    "    test[string] = lda_result.loc[1626750:,string].values\n",
    "    \n",
    "if not os.path.exists(addr1):\n",
    "    train.to_pickle(addr1)\n",
    "if not os.path.exists(addr2):\n",
    "    test.to_pickle(addr2)"
   ]
  },
  {
   "cell_type": "markdown",
   "metadata": {},
   "source": [
    "##用户特征 + 时间特征  + 文本特征"
   ]
  },
  {
   "cell_type": "code",
   "execution_count": null,
   "metadata": {
    "collapsed": true
   },
   "outputs": [],
   "source": [
    "train_basic = pd.read_pickle('raw_data/basic_train')\n",
    "test_basic  = pd.read_pickle('raw_data/basic_test')"
   ]
  },
  {
   "cell_type": "code",
   "execution_count": null,
   "metadata": {
    "collapsed": true
   },
   "outputs": [],
   "source": [
    "begin_time = time.time()\n",
    "train_lda_feature,test_lda_feature = feature.lda_feature(train_basic,test_basic)\n",
    "end_time = time.time()\n",
    "print end_time - begin_time\n",
    "\n",
    "begin_time= time.time()\n",
    "train_user,test_user = feature.user_basic_feature(train_basic,test_basic)\n",
    "end_time = time.time()\n",
    "print end_time - begin_time\n",
    "\n",
    "begin_time= time.time()\n",
    "train_content,test_content = feature.content_basic_feature(train_basic,test_basic)\n",
    "end_time = time.time()\n",
    "print end_time - begin_time\n",
    "\n",
    "begin_time= time.time()\n",
    "train_time,test_time = feature.time_feature(train_basic,test_basic)\n",
    "end_time = time.time()\n",
    "print end_time - begin_time\n",
    "\n",
    "begin_time = time.time()\n",
    "train_keyword,test_keyword = feature.key_word_feature(train_basic,test_basic)\n",
    "end_time = time.time()\n",
    "print end_time - begin_time"
   ]
  },
  {
   "cell_type": "code",
   "execution_count": 4,
   "metadata": {
    "collapsed": false
   },
   "outputs": [
    {
     "name": "stdout",
     "output_type": "stream",
     "text": [
      "454.795000076\n"
     ]
    }
   ],
   "source": [
    "train_basic.drop(['uid','pid','time','share','comment','zan','raw_corpus','clean&segment'],axis=1,inplace=True)\n",
    "test_basic.drop(['uid','pid','time','raw_corpus','clean&segment'],axis=1,inplace=True)\n",
    "train_user = pd.concat([train_user,train_basic],axis=1)\n",
    "test_user  = pd.concat([test_user,test_basic],axis=1)\n",
    "\n",
    "train = train_user.merge(train_content,how='left',left_on='pid',right_index=True)\n",
    "test  = test_user.merge(test_content,how='left',left_on='pid',right_index=True)\n",
    "\n",
    "train = train.merge(train_time,how='left',left_on='pid',right_index=True)\n",
    "test  = test.merge(test_time,how='left',left_on='pid',right_index=True)\n",
    "\n",
    "train = pd.concat([train,train_keyword],axis=1)\n",
    "test  = pd.concat([test,test_keyword],axis=1)\n",
    "\n",
    "train = train.merge(train_lda_feature,how='left',left_on='pid',right_index=True)\n",
    "test  = test.merge(test_lda_feature,how='left',left_on='pid',right_index=True)"
   ]
  },
  {
   "cell_type": "markdown",
   "metadata": {
    "collapsed": true
   },
   "source": [
    "##整理格式"
   ]
  },
  {
   "cell_type": "code",
   "execution_count": null,
   "metadata": {
    "collapsed": true
   },
   "outputs": [],
   "source": [
    "train_basic.drop(['uid','pid','time','share','comment','zan','raw_corpus','clean&segment'],axis=1,inplace=True)\n",
    "test_basic.drop(['uid','pid','time','raw_corpus','clean&segment'],axis=1,inplace=True)\n",
    "train_user = pd.concat([train_user,train_basic],axis=1)\n",
    "test_user  = pd.concat([test_user,test_basic],axis=1)\n",
    "\n",
    "train = train_user.merge(train_content,how='left',left_on='pid',right_index=True)\n",
    "test  = test_user.merge(test_content,how='left',left_on='pid',right_index=True)\n",
    "\n",
    "train = train.merge(train_time,how='left',left_on='pid',right_index=True)\n",
    "test  = test.merge(test_time,how='left',left_on='pid',right_index=True)\n",
    "\n",
    "result_test = []\n",
    "result_train = []\n",
    "tot = 0\n",
    "for string in ['share','comment','zan','content_len','链接','//@','@','#','【','《','\\[']:\n",
    "    temp = []\n",
    "    for i in test[string+'_histogram']:\n",
    "        if isinstance(i,int):\n",
    "            temp.append(np.zeros(shape=8))\n",
    "            tot +=1\n",
    "        else:\n",
    "            temp.append(i[0])\n",
    "    result_test.append(np.asarray(temp))\n",
    "    temp = []\n",
    "    for i in train[string+'_histogram']:\n",
    "        temp.append(i[0])\n",
    "    result_train.append(np.asarray(temp))\n",
    "    \n",
    "    train.drop(string+'_histogram',axis=1,inplace=True)\n",
    "    test.drop(string+'_histogram',axis=1,inplace=True)\n",
    "train.drop(['pid','uid'],inplace=True,axis = 1)\n",
    "test.drop(['pid','uid'],inplace=True,axis = 1)\n",
    "\n",
    "train_y = train[['share','comment','zan']].values\n",
    "train.drop(['share','comment','zan'],axis = 1,inplace=True)\n",
    "train_x = train.values\n",
    "test_x  = test.values\n",
    "for i in result_train:\n",
    "    train_x = np.c_[train_x,i]\n",
    "for i in result_test:\n",
    "    test_x = np.c_[test_x,i]\n",
    "np.save('processed_data/train_np',train_x)\n",
    "np.save('processed_data/test_np',test_x)\n",
    "np.save('processed_data/target_np',train_y)"
   ]
  }
 ],
 "metadata": {
  "kernelspec": {
   "display_name": "Python 2",
   "language": "python",
   "name": "python2"
  },
  "language_info": {
   "codemirror_mode": {
    "name": "ipython",
    "version": 2
   },
   "file_extension": ".py",
   "mimetype": "text/x-python",
   "name": "python",
   "nbconvert_exporter": "python",
   "pygments_lexer": "ipython2",
   "version": "2.7.10"
  }
 },
 "nbformat": 4,
 "nbformat_minor": 0
}
