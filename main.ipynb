{
 "cells": [
  {
   "cell_type": "code",
   "execution_count": 1,
   "metadata": {
    "collapsed": false
   },
   "outputs": [
    {
     "data": {
      "text/plain": [
       "<module 'feature' from 'feature.pyc'>"
      ]
     },
     "execution_count": 1,
     "metadata": {},
     "output_type": "execute_result"
    }
   ],
   "source": [
    "import numpy as np\n",
    "import pandas as pd\n",
    "import seaborn as sns\n",
    "import matplotlib.pyplot as plt\n",
    "\n",
    "import os.path\n",
    "import access_data \n",
    "import preprocessing\n",
    "import setting\n",
    "import feature\n",
    "import sys\n",
    "\n",
    "from sklearn.decomposition import PCA\n",
    "from sklearn.ensemble import AdaBoostClassifier,AdaBoostRegressor,\\\n",
    "RandomForestClassifier,RandomForestRegressor,GradientBoostingClassifier,GradientBoostingRegressor\n",
    "from sklearn.tree import DecisionTreeRegressor,DecisionTreeClassifier\n",
    "\n",
    "pd.set_option('display.max_columns' ,1000)\n",
    "pd.set_option('display.max_rows',60)\n",
    "%matplotlib inline\n",
    "reload(feature)"
   ]
  },
  {
   "cell_type": "markdown",
   "metadata": {},
   "source": [
    "#清理 + 分词 + label encode+计算词频"
   ]
  },
  {
   "cell_type": "code",
   "execution_count": 3,
   "metadata": {
    "collapsed": true
   },
   "outputs": [
    {
     "name": "stderr",
     "output_type": "stream",
     "text": [
      "INFO:root:finished cleaning symbol http[0-9a-zA-Z?:=._@%/\\-#&\\+|]+\n",
      "INFO:root:finished cleaning symbol //@\n",
      "INFO:root:finished cleaning symbol @\n",
      "INFO:root:finished cleaning symbol #\n",
      "INFO:root:finished cleaning symbol 【\n",
      "INFO:root:finished cleaning symbol 《\n",
      "INFO:root:finished cleaning symbol \\[\n"
     ]
    }
   ],
   "source": [
    "train_corpus ,test_corpus = preprocessing.clean_corpus()\n",
    "\n",
    "test_corpus['corpus'] = preprocessing.segment_word(test_corpus['corpus'])\n",
    "train_corpus['corpus'] = preprocessing.segment_word(train_corpus['corpus'])\n",
    "\n",
    "train_corpus.to_pickle(setting.processed_data_dir+'cleaned&segment_train')\n",
    "test_corpus.to_pickle(setting.processed_data_dir+'cleaned&segment_test')\n",
    "\n",
    "train_uid,test_uid = preprocessing.encode_label()\n",
    "\n",
    "preprocessing.bag_of_word(train_corpus['corpus'].values,test_corpus['corpus'].values,min_df=10)"
   ]
  },
  {
   "cell_type": "markdown",
   "metadata": {},
   "source": [
    "  ##构建用户基本特征 "
   ]
  },
  {
   "cell_type": "code",
   "execution_count": 2,
   "metadata": {
    "collapsed": false
   },
   "outputs": [],
   "source": [
    "train_uid = access_data.load_processed_data('uid&pid_train')\n",
    "test_uid  = access_data.load_processed_data('uid&pid_test')\n",
    "\n",
    "train ,test = access_data.load_raw_data()\n",
    "\n",
    "train_corpus = access_data.load_processed_data('cleaned&segment_train')\n",
    "test_corpus  = access_data.load_processed_data('cleaned&segment_test')                                               \n",
    "train = pd.concat([train_uid,train,train_corpus],axis=1)\n",
    "test  = pd.concat([test_uid,test,test_corpus],axis=1)\n",
    "\n",
    "train.drop([0,1],axis=1,inplace=True)\n",
    "test.drop([0,1],axis=1,inplace=True)\n",
    "\n",
    "train.columns = ['pid','uid','time','share','comment','zan','raw_corpus','clean&segment','链接','//@','@','#','【','《','\\[']\n",
    "test.columns = ['pid','uid','time','raw_corpus','clean&segment','链接','//@','@','#','【','《','\\[']\n",
    "train['uid'] = train['uid'].astype(np.uint16)\n",
    "test['uid']  = test['uid'].astype(np.uint16)\n",
    "l = ['链接','//@','@','#','【','《','\\[']\n",
    "\n",
    "for string in l :\n",
    "    train[string] = train[string].astype(np.int8)\n",
    "    test[string]  = test[string].astype(np.int8)\n",
    "\n",
    "#在training set和test set中和用户发送微博的总数量\n",
    "tot = pd.concat([pd.DataFrame(train['uid']),pd.DataFrame(test['uid'])])\n",
    "c = pd.DataFrame(tot['uid'].value_counts())\n",
    "c.columns = ['tot_counts']\n",
    "train = train.merge(c,left_on='uid',right_index=True,how='left')\n",
    "test  = test.merge(c,left_on='uid',right_index=True,how='left')\n",
    "\n",
    "# 用户出现在训练集的次数\n",
    "c = pd.DataFrame(train['uid'].value_counts())\n",
    "c.columns = ['train_counts']\n",
    "train = train.merge(c,left_on='uid',right_index=True,how='left')\n",
    "test  = test.merge(c,left_on='uid',right_index=True,how='left')\n",
    "\n",
    "test.fillna(-1,inplace=True)\n",
    "train['tot_counts'] = train['tot_counts'].astype(np.int32)\n",
    "train['train_counts'] = train['train_counts'].astype(np.int32)\n",
    "\n",
    "test['tot_counts'] = test['tot_counts'].astype(np.int32)\n",
    "test['train_counts'] = test['train_counts'].astype(np.int32)\n",
    "\n",
    "addr1 = setting.raw_data_dir + 'basic_train'\n",
    "addr2 = setting.raw_data_dir + 'basic_test'\n",
    "\n",
    "if not os.path.exists(addr1):\n",
    "    train.to_pickle(addr1)\n",
    "if not os.path.exists(addr2):\n",
    "    test.to_pickle(addr2)"
   ]
  },
  {
   "cell_type": "markdown",
   "metadata": {},
   "source": [
    "##主题模型"
   ]
  },
  {
   "cell_type": "code",
   "execution_count": null,
   "metadata": {
    "collapsed": true
   },
   "outputs": [],
   "source": [
    "%run run_lda.py"
   ]
  },
  {
   "cell_type": "code",
   "execution_count": 27,
   "metadata": {
    "collapsed": true
   },
   "outputs": [],
   "source": [
    "lda_result = np.load('processed_data/lda_result_version2.npy')\n",
    "lda_result = pd.DataFrame(lda_result,columns=['topic_%d' %i for i in range(0,25)])"
   ]
  },
  {
   "cell_type": "markdown",
   "metadata": {},
   "source": [
    "##用户+文本符号统计特征 （min，max，histogram，std，min）"
   ]
  },
  {
   "cell_type": "code",
   "execution_count": 3,
   "metadata": {
    "collapsed": false
   },
   "outputs": [],
   "source": [
    "train_user,test_user = feature.user_basic_feature()\n",
    "train_content,test_content = feature.content_basic_feature()"
   ]
  },
  {
   "cell_type": "markdown",
   "metadata": {},
   "source": [
    "##时间特征"
   ]
  },
  {
   "cell_type": "code",
   "execution_count": 4,
   "metadata": {
    "collapsed": true
   },
   "outputs": [],
   "source": [
    "train_time,test_time = feature.time_feature()"
   ]
  },
  {
   "cell_type": "code",
   "execution_count": 10,
   "metadata": {
    "collapsed": false
   },
   "outputs": [],
   "source": [
    "train = train_user.merge(train_content,how='left',left_on='pid',right_index=True)\n",
    "test  = test_user.merge(test_content,how='left',left_on='pid',right_index=True)\n",
    "\n",
    "train = train.merge(train_time,how='left',left_on='pid',right_index=True)\n",
    "test  = test.merge(test_time,how='left',left_on='pid',right_index=True)\n",
    "train.to_pickle('processed_data/train')\n",
    "test.to_pickle('processed_data/test')"
   ]
  },
  {
   "cell_type": "code",
   "execution_count": 3,
   "metadata": {
    "collapsed": false
   },
   "outputs": [],
   "source": [
    "train = pd.read_pickle('processed_data/train')\n",
    "test  = pd.read_pickle('processed_data/test')"
   ]
  },
  {
   "cell_type": "code",
   "execution_count": 25,
   "metadata": {
    "collapsed": false
   },
   "outputs": [],
   "source": [
    "result_test = []\n",
    "result_train = []\n",
    "tot = 0\n",
    "for string in ['share','comment','zan',]:\n",
    "    temp = []\n",
    "    for i in test[string+'_histogram']:\n",
    "        if isinstance(i,int):\n",
    "            temp.append(np.zeros(shape=8))\n",
    "            tot +=1\n",
    "        else:\n",
    "            temp.append(i[0])\n",
    "    result_test.append(np.asarray(temp))\n",
    "    temp = []\n",
    "    for i in train[string+'_histogram']:\n",
    "        temp.append(i[0])\n",
    "    result_train.append(np.asarray(temp))"
   ]
  },
  {
   "cell_type": "code",
   "execution_count": null,
   "metadata": {
    "collapsed": true
   },
   "outputs": [],
   "source": []
  },
  {
   "cell_type": "markdown",
   "metadata": {},
   "source": [
    "#文本特征"
   ]
  },
  {
   "cell_type": "code",
   "execution_count": 3,
   "metadata": {
    "collapsed": false
   },
   "outputs": [],
   "source": [
    "def find_string(x):\n",
    "    if reg.search(x):\n",
    "        return 1\n",
    "    else:\n",
    "        return 0\n",
    "wenben = ['创业','分享自','知乎','正品','机器学习','大数据','python','公开课','论文','周杰伦','推荐','美女','预约','曝光',\\\n",
    "          '优酷','天气','吐槽','双11','百度钱包','狂欢节','美拍','校园招聘','骚扰他人','人身攻击','有才','余额宝','mysql','客户端',\\\n",
    "          '抢购','降价','优惠活动','《','幸运用户','虾米音乐','过节','嘻嘻','陌陌','签到','死亡','身亡','综合运势','星座','呵呵','看过《',\\\n",
    "          'tmd','TMD','腐败','大红包','反腐','我参与了']\n",
    "for string in wenben:\n",
    "    reg  = re.compile(string)\n",
    "    train[string] = train['content2'].map(find_string)\n",
    "    test[string] = test['content2'].map(find_string)"
   ]
  },
  {
   "cell_type": "code",
   "execution_count": 74,
   "metadata": {
    "collapsed": false
   },
   "outputs": [
    {
     "name": "stdout",
     "output_type": "stream",
     "text": [
      "47\n",
      "368\n",
      "361\n"
     ]
    }
   ],
   "source": [
    " def find_try(x):\n",
    "    if re.search( '我参与了' ,x):\n",
    "        return 1\n",
    "    else :\n",
    "        return 0\n",
    "print sum(train.loc[train.share>1]['content2'].map(find_try))\n",
    "print sum(train.loc[train.comment>0]['content2'].map(find_try))\n",
    "print sum(train.loc[train.zan>0]['content2'].map(find_try))"
   ]
  },
  {
   "cell_type": "markdown",
   "metadata": {},
   "source": [
    "#格式转换为narray矩阵"
   ]
  },
  {
   "cell_type": "code",
   "execution_count": 29,
   "metadata": {
    "collapsed": false
   },
   "outputs": [
    {
     "data": {
      "text/plain": [
       "Index([u'pid', u'uid', u'time', u'share', u'comment', u'zan', u'raw_corpus',\n",
       "       u'clean&segment', u'链接', u'//@', u'@', u'#', u'【', u'《', u'\\[',\n",
       "       u'tot_counts', u'train_counts', u'share_mean', u'comment_mean',\n",
       "       u'zan_mean', u'share_amax', u'comment_amax', u'zan_amax', u'share_amin',\n",
       "       u'comment_amin', u'zan_amin', u'share_std', u'comment_std', u'zan_std',\n",
       "       u'share_histogram', u'comment_histogram', u'zan_histogram',\n",
       "       u'content_len', u'链接_mean', u'//@_mean', u'@_mean', u'#_mean',\n",
       "       u'【_mean', u'《_mean', u'\\[_mean', u'content_len_amax', u'链接_amax',\n",
       "       u'//@_amax', u'@_amax', u'#_amax', u'【_amax', u'《_amax', u'\\[_amax',\n",
       "       u'content_len_amin', u'链接_amin', u'//@_amin', u'@_amin', u'#_amin',\n",
       "       u'【_amin', u'《_amin', u'\\[_amin', u'content_len_std', u'链接_std',\n",
       "       u'//@_std', u'@_std', u'#_std', u'【_std', u'《_std', u'\\[_std',\n",
       "       u'content_len_histogram', u'链接_histogram', u'//@_histogram',\n",
       "       u'@_histogram', u'#_histogram', u'【_histogram', u'《_histogram',\n",
       "       u'\\[_histogram', u'dayofweek', u'month', u'dayofweek_0', u'ratio_week0',\n",
       "       u'dayofweek_1', u'ratio_week1', u'dayofweek_2', u'ratio_week2',\n",
       "       u'dayofweek_3', u'ratio_week3', u'dayofweek_4', u'ratio_week4',\n",
       "       u'dayofweek_5', u'ratio_week5', u'dayofweek_6', u'ratio_week6', u'len',\n",
       "       u'time_diff', u'len_diff'],\n",
       "      dtype='object')"
      ]
     },
     "execution_count": 29,
     "metadata": {},
     "output_type": "execute_result"
    }
   ],
   "source": [
    "train.columns"
   ]
  },
  {
   "cell_type": "code",
   "execution_count": 32,
   "metadata": {
    "collapsed": false
   },
   "outputs": [],
   "source": [
    "train.drop(['uid','time','raw_corpus','clean&segment'],inplace=True,axis = 1)\n",
    "test.drop(['uid','time','raw_corpus','clean&segment'],inplace=True,axis = 1)\n",
    "\n",
    "train_y = train[['share','comment','zan']].values.astype(np.float64)\n",
    "train.drop(['share','comment','zan'],axis = 1,inplace=True)\n",
    "train_x = np.c_[train.values,lda_result.loc[:1626749].values]\n",
    "test_x  = np.c_[test.values,lda_result.loc[1626750:].values]"
   ]
  },
  {
   "cell_type": "code",
   "execution_count": 33,
   "metadata": {
    "collapsed": false
   },
   "outputs": [
    {
     "data": {
      "text/plain": [
       "array([['5fefc2488f99aba5782baa43096b76dc', 0, 0, ...,\n",
       "        0.0032786885245901635, 0.0032786885245901635, 0.0032786885245901635],\n",
       "       ['397d9abe2ebf9ba986fe5ab5a6139e11', 1, 0, ...,\n",
       "        0.0029850746268656712, 0.0029850746268656712, 0.0029850746268656712],\n",
       "       ['a2ae3959e9aa21a47993506e2609a4ec', 0, 0, ...,\n",
       "        0.013333333333333332, 0.013333333333333332, 0.013333333333333332],\n",
       "       ..., \n",
       "       ['ff7f21a750d9e0d4f5469c3cc58a4f41', 1, 0, ..., 0.01818181818181818,\n",
       "        0.01818181818181818, 0.01818181818181818],\n",
       "       ['89ddb51947afecefc04957ea36a8dc0d', 0, 0, ...,\n",
       "        0.006896551724137933, 0.006896551724137933, 0.006896551724137933],\n",
       "       ['a3513353849669a374eeca4cdb4b03fe', 0, 0, ...,\n",
       "        0.0064516129032258064, 0.0064516129032258064, 0.0064516129032258064]], dtype=object)"
      ]
     },
     "execution_count": 33,
     "metadata": {},
     "output_type": "execute_result"
    }
   ],
   "source": [
    "train_x"
   ]
  },
  {
   "cell_type": "code",
   "execution_count": 5,
   "metadata": {
    "collapsed": false
   },
   "outputs": [],
   "source": [
    "#离散化\n",
    "train_y_class = np.zeros_like(train_y)\n",
    "train_y_class[train_y[:,0]>1,0] = 1\n",
    "train_y_class[train_y[:,1]>0,1] = 1\n",
    "train_y_class[train_y[:,2]>0,2] = 1\n",
    "train_y = np.log1p(train_y)"
   ]
  },
  {
   "cell_type": "markdown",
   "metadata": {},
   "source": [
    "#分类"
   ]
  },
  {
   "cell_type": "code",
   "execution_count": 12,
   "metadata": {
    "collapsed": false
   },
   "outputs": [],
   "source": [
    "clf = RandomForestClassifier(n_estimators=400,max_leaf_nodes=10000,max_features=15,n_jobs=4)"
   ]
  },
  {
   "cell_type": "code",
   "execution_count": 13,
   "metadata": {
    "collapsed": false
   },
   "outputs": [],
   "source": [
    "clf.fit(train_x,train_y_class)\n",
    "test_predict = clf.predict(test_x)\n",
    "test_predict = pd.DataFrame(test_predict)"
   ]
  },
  {
   "cell_type": "code",
   "execution_count": 15,
   "metadata": {
    "collapsed": false
   },
   "outputs": [
    {
     "data": {
      "text/plain": [
       "<matplotlib.axes._subplots.AxesSubplot at 0x18b09390>"
      ]
     },
     "execution_count": 15,
     "metadata": {},
     "output_type": "execute_result"
    },
    {
     "data": {
      "image/png": "[encoded data removed]",
      "text/plain": [
       "<matplotlib.figure.Figure at 0x3b725c0>"
      ]
     },
     "metadata": {},
     "output_type": "display_data"
    }
   ],
   "source": [
    "pd.DataFrame(clf.feature_importances_).plot(kind = 'bar')"
   ]
  },
  {
   "cell_type": "markdown",
   "metadata": {},
   "source": [
    "#回归"
   ]
  },
  {
   "cell_type": "code",
   "execution_count": 16,
   "metadata": {
    "collapsed": false
   },
   "outputs": [],
   "source": [
    "for i in range(0,3):\n",
    "    regressor = RandomForestRegressor(n_estimators=400,max_features=35,max_leaf_nodes=10000,n_jobs=4)\n",
    "    mask = train_y_class[:,i] >0 \n",
    "    regressor.fit(train_x[mask],train_y[mask,i])\n",
    "    test_predict.loc[test_predict[i]>0,i] = regressor.predict(test_x[(test_predict[i]>0).values])"
   ]
  },
  {
   "cell_type": "code",
   "execution_count": 17,
   "metadata": {
    "collapsed": false
   },
   "outputs": [],
   "source": [
    "for i in range(0,3):\n",
    "    test_predict[i] = test_predict[i].map(lambda x:np.rint(np.expm1(x)))"
   ]
  },
  {
   "cell_type": "code",
   "execution_count": 19,
   "metadata": {
    "collapsed": false
   },
   "outputs": [
    {
     "data": {
      "text/plain": [
       "<matplotlib.axes._subplots.AxesSubplot at 0x837cddd8>"
      ]
     },
     "execution_count": 19,
     "metadata": {},
     "output_type": "execute_result"
    },
    {
     "data": {
      "image/png": "[encoded data removed]",
      "text/plain": [
       "<matplotlib.figure.Figure at 0x74eab390>"
      ]
     },
     "metadata": {},
     "output_type": "display_data"
    }
   ],
   "source": [
    "pd.DataFrame(regressor.feature_importances_).plot(kind='bar')"
   ]
  },
  {
   "cell_type": "markdown",
   "metadata": {},
   "source": [
    "#打印"
   ]
  },
  {
   "cell_type": "code",
   "execution_count": 27,
   "metadata": {
    "collapsed": false
   },
   "outputs": [],
   "source": [
    "import access_data\n",
    "reload(access_data)\n",
    "docs = dict(classification = 'RF n_estimators=400,max_leaf_nodes=10000,max_features=15 ',\n",
    "            regression = 'RF n_estimators=400,max_features=35,max_leaf_nodes=10000,n_jobs=4',\n",
    "            preprocessing = 'np.log1p',\n",
    "           predict_big_0 = '16302 43168 32005')\n",
    "access_data.output_result(test_predict,'2015-8-14_2',docs)"
   ]
  },
  {
   "cell_type": "code",
   "execution_count": 30,
   "metadata": {
    "collapsed": false
   },
   "outputs": [
    {
     "data": {
      "text/plain": [
       "array([0, 1, 2, 3, 4, 0, 0, 0, 0])"
      ]
     },
     "execution_count": 30,
     "metadata": {},
     "output_type": "execute_result"
    }
   ],
   "source": [
    "np.pad(np.arange(5), (0,4), 'constant')"
   ]
  },
  {
   "cell_type": "code",
   "execution_count": 34,
   "metadata": {
    "collapsed": false
   },
   "outputs": [],
   "source": [
    "if None :\n",
    "    print \"ok\""
   ]
  },
  {
   "cell_type": "code",
   "execution_count": null,
   "metadata": {
    "collapsed": true
   },
   "outputs": [],
   "source": []
  }
 ],
 "metadata": {
  "kernelspec": {
   "display_name": "Python 2",
   "language": "python",
   "name": "python2"
  },
  "language_info": {
   "codemirror_mode": {
    "name": "ipython",
    "version": 2
   },
   "file_extension": ".py",
   "mimetype": "text/x-python",
   "name": "python",
   "nbconvert_exporter": "python",
   "pygments_lexer": "ipython2",
   "version": "2.7.10"
  }
 },
 "nbformat": 4,
 "nbformat_minor": 0
}
